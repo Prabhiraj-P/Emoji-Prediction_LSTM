{
 "cells": [
  {
   "cell_type": "code",
   "execution_count": null,
   "metadata": {},
   "outputs": [],
   "source": [
    "import nltk\n",
    "import torch\n",
    "import emoji\n",
    "import numpy as np\n",
    "import pandas as pd\n",
    "import torch.nn as nn\n",
    "from torch.nn.functional import one_hot\n",
    "from nltk.tokenize import word_tokenize\n",
    "from torch.utils.data import random_split\n"
   ]
  },
  {
   "cell_type": "markdown",
   "metadata": {},
   "source": [
    "# Loading Dataset"
   ]
  },
  {
   "cell_type": "code",
   "execution_count": null,
   "metadata": {},
   "outputs": [],
   "source": [
    "dataset=pd.read_csv('emoji_data.csv',header=None)"
   ]
  },
  {
   "cell_type": "markdown",
   "metadata": {},
   "source": [
    "# Exploring Dataset"
   ]
  },
  {
   "cell_type": "code",
   "execution_count": null,
   "metadata": {},
   "outputs": [],
   "source": [
    "emoji_dict={\n",
    "    0: \":red_heart:\",\n",
    "    1: \":baseball:\",\n",
    "    2: \":grinning_face_with_big_eyes:\",\n",
    "    3: \":disappointed_face:\",\n",
    "    4: \":fork_and_knife_with_plate:\"\n",
    "}"
   ]
  },
  {
   "cell_type": "code",
   "execution_count": null,
   "metadata": {},
   "outputs": [],
   "source": [
    "def emoji_label(label):\n",
    "    if label<5:\n",
    "     return emoji_dict[label]\n",
    "    else:\n",
    "        return \"{label<5}\""
   ]
  },
  {
   "cell_type": "code",
   "execution_count": null,
   "metadata": {},
   "outputs": [],
   "source": [
    "dataset.iat[29,1]='0' #There was an error in the dataset, so I replaced it with 0"
   ]
  },
  {
   "cell_type": "code",
   "execution_count": null,
   "metadata": {},
   "outputs": [],
   "source": [
    "X=dataset[0]\n",
    "Y=dataset[1]"
   ]
  },
  {
   "cell_type": "markdown",
   "metadata": {},
   "source": [
    "# Embedding"
   ]
  },
  {
   "cell_type": "code",
   "execution_count": null,
   "metadata": {},
   "outputs": [],
   "source": [
    "#!pip install torchtext\n",
    "import torchtext.vocab as vocab"
   ]
  },
  {
   "cell_type": "markdown",
   "metadata": {},
   "source": [
    "The code below downloads 862 MB of data. This will be an embedded word with a vector length of 100. Please see the website for details."
   ]
  },
  {
   "cell_type": "code",
   "execution_count": null,
   "metadata": {},
   "outputs": [],
   "source": [
    "glove = vocab.GloVe(name='6B', dim=100)\n",
    "word_vectors = glove.vectors"
   ]
  },
  {
   "cell_type": "code",
   "execution_count": null,
   "metadata": {},
   "outputs": [],
   "source": [
    "file = open('.vector_cache\\glove.6B.100d.txt', 'r', encoding = 'utf8')\n",
    "content = file.readlines()\n",
    "file.close()"
   ]
  },
  {
   "cell_type": "markdown",
   "metadata": {},
   "source": [
    "The code parses the lines of text into a content variable, divides each line into words, and creates a dictionary containing the word's key and its corresponding numeric values ​​stored as a NumPy array, a vector that maps the words to be included. If the code is confusing to you, take the time to understand it"
   ]
  },
  {
   "cell_type": "code",
   "execution_count": null,
   "metadata": {},
   "outputs": [],
   "source": [
    "embedding={line.split()[0]:np.array(line.split()[1:] ,dtype=float) for line in content}"
   ]
  },
  {
   "cell_type": "code",
   "execution_count": null,
   "metadata": {},
   "outputs": [],
   "source": [
    "X_input = []\n",
    "for quote in X:\n",
    "    tokens = word_tokenize(quote.lower())\n",
    "    embeddings = [torch.Tensor(embedding.get(w, torch.zeros(100))) for w in tokens]\n",
    "    input_tensor = torch.stack(embeddings)\n",
    "    X_input.append(input_tensor)"
   ]
  },
  {
   "cell_type": "code",
   "execution_count": null,
   "metadata": {},
   "outputs": [],
   "source": [
    "print(\"The maximum number of words in a sentence is {} and the minimum number of words in a sentence is {}\".format(max([len(x) for x in X_input]),min([len(x) for x in X_input])))"
   ]
  },
  {
   "cell_type": "code",
   "execution_count": null,
   "metadata": {},
   "outputs": [],
   "source": [
    "shape_input_zeros = (len(X_input), 10,100)\n",
    "\n",
    "input_vector = np.zeros(shape_input_zeros, dtype='float32')\n",
    "\n",
    "for i in range(len(X_input)): \n",
    " input_vector[i][:len(X_input[i])]=X_input[i]\n",
    "\n",
    "input_vector = np.array(input_vector)\n"
   ]
  },
  {
   "cell_type": "code",
   "execution_count": null,
   "metadata": {},
   "outputs": [],
   "source": [
    "for i in range(len(Y)):\n",
    " Y[i]=Y[i].replace(\" \",'')\n",
    " Y[i]=int(Y[i])"
   ]
  },
  {
   "cell_type": "markdown",
   "metadata": {},
   "source": [
    "# Model"
   ]
  },
  {
   "cell_type": "code",
   "execution_count": null,
   "metadata": {},
   "outputs": [],
   "source": [
    "input_size = 100 # Assuming 100-dimensional word embeddings\n",
    "hidden_size = 128  # Set your desired hidden size\n",
    "num_classes = 5  # The number of emoji classes\n",
    "num_layers = 2  # Set your desired number of LSTM layers\n",
    "\n",
    "class LstmModel(nn.Module):\n",
    "    def __init__(self,input_size,hidden_size,num_class,num_layer):\n",
    "        super(LstmModel,self).__init__()\n",
    "        self.hidden_size=hidden_size\n",
    "        self.num_layer=num_layer\n",
    "        self.lstm=nn.LSTM(input_size,hidden_size,num_layer,batch_first=True)\n",
    "        self.layer2=nn.Linear(num_classes,1)\n",
    "        self.outlayer=nn.Linear(hidden_size,num_class)\n",
    "    \n",
    "    def forward(self,x):\n",
    "       out, _=self.lstm(x)\n",
    "       out = torch.mean(out, dim=1)\n",
    "       out = self.outlayer(out)#[:, -1, :])  # Get the output from the last time step\n",
    "       return out\n",
    "    \n",
    "\n",
    "\n",
    "lstmModel=LstmModel(input_size,hidden_size,num_classes,num_layers)"
   ]
  },
  {
   "cell_type": "code",
   "execution_count": null,
   "metadata": {},
   "outputs": [],
   "source": [
    "input_vector.dtype, input_vector[1].shape"
   ]
  },
  {
   "cell_type": "markdown",
   "metadata": {},
   "source": [
    "# Data splitting and optim"
   ]
  },
  {
   "cell_type": "code",
   "execution_count": null,
   "metadata": {},
   "outputs": [],
   "source": [
    "# Define your loss function (criterion) and optimizer\n",
    "criterion = nn.CrossEntropyLoss()\n",
    "optimizer = torch.optim.Adam(lstmModel.parameters(), lr=0.001)"
   ]
  },
  {
   "cell_type": "code",
   "execution_count": null,
   "metadata": {},
   "outputs": [],
   "source": [
    "# Convert Xtrain and Y to PyTorch tensors\n",
    "Xtrain = torch.tensor(input_vector, dtype=torch.float32)\n",
    "Ytrain = torch.tensor(Y, dtype=torch.float32)"
   ]
  },
  {
   "cell_type": "code",
   "execution_count": null,
   "metadata": {},
   "outputs": [],
   "source": [
    "train_size=150\n",
    "val_size=len(Xtrain)-train_size"
   ]
  },
  {
   "cell_type": "code",
   "execution_count": null,
   "metadata": {},
   "outputs": [],
   "source": [
    "#Creating Training and validating dataret\n",
    "dataset = torch.utils.data.TensorDataset(Xtrain, Ytrain)\n",
    "train_ds, val_ds = random_split(dataset, [train_size, val_size])"
   ]
  },
  {
   "cell_type": "code",
   "execution_count": null,
   "metadata": {},
   "outputs": [],
   "source": [
    "# Create data loaders for batch training\n",
    "dataloader = torch.utils.data.DataLoader(train_ds, batch_size=batch_size, shuffle=True)\n",
    "val_dataloader = torch.utils.data.DataLoader(val_ds, batch_size=batch_size, shuffle=True)"
   ]
  },
  {
   "cell_type": "markdown",
   "metadata": {},
   "source": [
    "## Training loop"
   ]
  },
  {
   "cell_type": "code",
   "execution_count": null,
   "metadata": {},
   "outputs": [],
   "source": [
    "# Define the number of epochs and batch size\n",
    "num_epochs = 50\n",
    "batch_size = 32"
   ]
  },
  {
   "cell_type": "code",
   "execution_count": null,
   "metadata": {},
   "outputs": [],
   "source": [
    "total_loss={'train_loss':[],'val_loss':[],'model':[]}\n",
    "for i in range(num_epochs):\n",
    "  for data in dataloader:\n",
    "    x,y=data\n",
    "    y = y.long()\n",
    "    optimizer.zero_grad()\n",
    "\n",
    "    result=lstmModel(x)\n",
    "    loss = criterion(result, y)\n",
    "\n",
    "      # Backpropagation and optimization\n",
    "    loss.backward()\n",
    "    optimizer.step()\n",
    "  total_loss['train_loss'].append(loss.item())\n",
    "  total_loss['model'].append(lstmModel)\n",
    "\n",
    "#Validation\n",
    "  for data in val_dataloader:\n",
    "    x,y=data\n",
    "    y = y.long()\n",
    "    result=lstmModel(x)\n",
    "    loss = criterion(result, y)\n",
    "  total_loss['val_loss'].append(loss.item())\n",
    "\n",
    "    \n"
   ]
  },
  {
   "cell_type": "markdown",
   "metadata": {},
   "source": [
    "# Evaluating model"
   ]
  },
  {
   "cell_type": "code",
   "execution_count": null,
   "metadata": {},
   "outputs": [],
   "source": [
    "import matplotlib\n",
    "import matplotlib.pyplot as plt \n",
    "import seaborn as sns"
   ]
  },
  {
   "cell_type": "code",
   "execution_count": null,
   "metadata": {},
   "outputs": [],
   "source": [
    "plt.figure(figsize=(10,8))\n",
    "sns.lineplot(y=total_loss['train_loss'], x=range(len(total_loss['train_loss'])), label='Training Loss')\n",
    "\n",
    "sns.lineplot(y=total_loss['val_loss'], x=range(len(total_loss['val_loss'])), label='Validation Loss')\n",
    "\n",
    "plt.xlabel('Epochs')\n",
    "plt.ylabel('Loss')\n",
    "plt.title('Training and Validation Loss Over Epochs')\n",
    "plt.grid(True)\n",
    "plt.legend()\n",
    "\n",
    "plt.show()"
   ]
  },
  {
   "cell_type": "markdown",
   "metadata": {},
   "source": [
    "# Saving and loading model"
   ]
  },
  {
   "cell_type": "code",
   "execution_count": null,
   "metadata": {},
   "outputs": [],
   "source": [
    "lstmModel=total_loss['model'][34] #The chart above uses 34. In fact, the 34th model has the lowest validation loss.\n",
    "torch.save(lstmModel.state_dict(),'Model.pth')"
   ]
  },
  {
   "cell_type": "markdown",
   "metadata": {},
   "source": [
    "# model implementation"
   ]
  },
  {
   "cell_type": "code",
   "execution_count": null,
   "metadata": {},
   "outputs": [],
   "source": [
    "#loading model\n",
    "load_model=LstmModel(input_size,hidden_size,num_classes,num_layers)\n",
    "load_model.load_state_dict(torch.load('model.pth'))"
   ]
  },
  {
   "cell_type": "code",
   "execution_count": null,
   "metadata": {},
   "outputs": [],
   "source": [
    "def emoji_pred(prompt):\n",
    " prompt_token=word_tokenize(prompt)\n",
    "\n",
    " prompt_embeddings = [torch.Tensor(embedding.get(w.lower(), torch.zeros(100))) for w in prompt_token]\n",
    "\n",
    " prompt_embeddings = torch.stack(prompt_embeddings)\n",
    " prompt_zeros = torch.zeros(10, 100)\n",
    "\n",
    " prompt_zeros[0:len(prompt_token)] = prompt_embeddings\n",
    " prompt_input = prompt_zeros\n",
    "\n",
    " prompt_pred=torch.max(load_model(prompt_input.unsqueeze(0)),dim=1) #Using loaded model\n",
    "\n",
    " prompt_pred=prompt_pred[1].item()\n",
    "\n",
    "\n",
    " return prompt_pred, emoji_dict[prompt_pred]\n"
   ]
  },
  {
   "cell_type": "code",
   "execution_count": null,
   "metadata": {},
   "outputs": [],
   "source": [
    "prompt='Machine learning is fascinating'\n",
    "print(emoji_pred(prompt))"
   ]
  }
 ],
 "metadata": {
  "kernelspec": {
   "display_name": "Python 3",
   "language": "python",
   "name": "python3"
  },
  "language_info": {
   "codemirror_mode": {
    "name": "ipython",
    "version": 3
   },
   "file_extension": ".py",
   "mimetype": "text/x-python",
   "name": "python",
   "nbconvert_exporter": "python",
   "pygments_lexer": "ipython3",
   "version": "3.11.6"
  }
 },
 "nbformat": 4,
 "nbformat_minor": 2
}
